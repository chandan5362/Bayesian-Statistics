{
 "cells": [
  {
   "cell_type": "code",
   "execution_count": 1,
   "metadata": {},
   "outputs": [],
   "source": [
    "import numpy as np\n",
    "from scipy import stats"
   ]
  },
  {
   "cell_type": "code",
   "execution_count": 133,
   "metadata": {},
   "outputs": [],
   "source": [
    "# Metropolis-Hasting algorithm\n",
    "def metropolis_binomial(num_iter,a,b,n,y,theta,prior,liklihood):\n",
    "    \n",
    "    \n",
    "    res = []\n",
    "    θ_old  = theta\n",
    "    res.append(θ_old)\n",
    "    n_c = 1\n",
    "    \n",
    "    d = prior(θ_old,a,b)*liklihood(y,n,θ_old) #posterior probability corresponding to initial θ\n",
    "    \n",
    "    \n",
    "    for i in range(1,num_iter+1):\n",
    "        random_innov = stats.norm.rvs(scale = 0.3)\n",
    "        θ_new = θ_old + random_innov\n",
    "            \n",
    "        #calculate rejection/acceptance rati0\n",
    "        #check for the range of θ\n",
    "        if θ_new < 0 or θ_new > 1:\n",
    "            r = 0\n",
    "        else:\n",
    "            num = prior(θ_new,a,b)*liklihood(y,n,θ_new) #numerator\n",
    "            r = min(1,num/d)\n",
    "            \n",
    "        u = np.random.uniform(0,1)\n",
    "        if r > u: \n",
    "            θ_old = θ_new\n",
    "            d = num\n",
    "            n_c+=1\n",
    "            res.append(θ_old)\n",
    "    burn_in = len(res)//2\n",
    "    return res[burn_in:],n_c\n",
    "        "
   ]
  },
  {
   "cell_type": "code",
   "execution_count": 134,
   "metadata": {},
   "outputs": [],
   "source": [
    "np.random.seed(0)\n",
    "a = 10 #shape parameter for Beta distribution\n",
    "b = 10 #shape parameter for Beta distribution\n",
    "n = 50 #ttotal number of trials\n",
    "y = 25 #total number of successful trial\n",
    "theta = np.random.rand() #initial value of θ\n",
    "num_iter = 10000 #totla number of iterations\n",
    "sample,n_c = metropolis_binomial(num_iter,a,b,n,y,theta,stats.beta.pdf,stats.binom.pmf)"
   ]
  },
  {
   "cell_type": "markdown",
   "metadata": {},
   "source": [
    "Greater the efficiency, lesser the auto-correlation between samples."
   ]
  },
  {
   "cell_type": "code",
   "execution_count": 135,
   "metadata": {},
   "outputs": [
    {
     "name": "stdout",
     "output_type": "stream",
     "text": [
      "efficiency = 23.849999999999998%\n"
     ]
    }
   ],
   "source": [
    "efficiency = n_c/num_iter\n",
    "print(f\"efficiency = {efficiency*100}%\")"
   ]
  },
  {
   "cell_type": "code",
   "execution_count": 160,
   "metadata": {},
   "outputs": [],
   "source": [
    "r = st.beta.rvs(a+y, b+n-y, size=1000) #generate  theoretical sampels from posterior distribution"
   ]
  },
  {
   "cell_type": "code",
   "execution_count": 161,
   "metadata": {},
   "outputs": [
    {
     "data": {
      "image/png": "[encoded data removed]",
      "text/plain": [
       "<Figure size 864x576 with 1 Axes>"
      ]
     },
     "metadata": {
      "needs_background": "light"
     },
     "output_type": "display_data"
    }
   ],
   "source": [
    "plt.figure(figsize =(12,8))\n",
    "plt.hist(sample,20,histtype='step',color = 'r',label='Sampled Posterior')\n",
    "plt.hist(r,20,histtype='step',color = 'b',label='Theoretical Posterior')\n",
    "plt.legend()\n",
    "plt.xlim([0,1])\n",
    "plt.show()"
   ]
  },
  {
   "cell_type": "code",
   "execution_count": null,
   "metadata": {},
   "outputs": [],
   "source": []
  }
 ],
 "metadata": {
  "kernelspec": {
   "display_name": "Python 3",
   "language": "python",
   "name": "python3"
  },
  "language_info": {
   "codemirror_mode": {
    "name": "ipython",
    "version": 3
   },
   "file_extension": ".py",
   "mimetype": "text/x-python",
   "name": "python",
   "nbconvert_exporter": "python",
   "pygments_lexer": "ipython3",
   "version": "3.8.3"
  }
 },
 "nbformat": 4,
 "nbformat_minor": 4
}
